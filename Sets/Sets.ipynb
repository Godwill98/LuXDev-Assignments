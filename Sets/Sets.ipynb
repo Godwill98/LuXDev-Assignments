{
 "cells": [
  {
   "cell_type": "markdown",
   "id": "1017ef79",
   "metadata": {},
   "source": [
    "# STATISTICS\n",
    "- Assignment [Sets]"
   ]
  },
  {
   "cell_type": "code",
   "execution_count": null,
   "id": "e34c0d36",
   "metadata": {},
   "outputs": [
    {
     "name": "stdout",
     "output_type": "stream",
     "text": [
      "A ∩ B = {8}\n"
     ]
    }
   ],
   "source": [
    "# Define the sets\n",
    "Ω = {1, 2, 3, 4, 5, 6, 7, 8, 9, 10,11, 12}\n",
    "A = {2, 4, 6, 8, 10}\n",
    "B = {3, 8, 11, 12}\n",
    "\n",
    "# Compute the intersection of A and B\n",
    "ans1 = A & B  # or A.intersection(B)\n",
    "\n",
    "# Display the result\n",
    "print(\"A ∩ B =\", ans1)\n"
   ]
  },
  {
   "cell_type": "code",
   "execution_count": 2,
   "id": "ba5c967f",
   "metadata": {},
   "outputs": [
    {
     "name": "stdout",
     "output_type": "stream",
     "text": [
      "A ∪ C = {2, 3, 4, 6, 8, 9, 10, 11}\n"
     ]
    }
   ],
   "source": [
    "A = {2, 4, 6, 8, 10}\n",
    "C = {2, 3, 6, 8, 9, 11}\n",
    "\n",
    "ans2 = A | C  # or A.union(C)\n",
    "print(\"A ∪ C =\", ans2)\n"
   ]
  },
  {
   "cell_type": "code",
   "execution_count": 3,
   "id": "86f3afc5",
   "metadata": {},
   "outputs": [
    {
     "name": "stdout",
     "output_type": "stream",
     "text": [
      "Aᶜ = {1, 3, 5, 7, 9, 11, 12}\n"
     ]
    }
   ],
   "source": [
    "Ω = set(range(1, 13))  # Universal set from 1 to 12\n",
    "A = {2, 4, 6, 8, 10}\n",
    "\n",
    "ans3 = Ω - A  # Complement of A\n",
    "print(\"Aᶜ =\", ans3)\n"
   ]
  },
  {
   "cell_type": "code",
   "execution_count": null,
   "id": "4f7db2df",
   "metadata": {},
   "outputs": [
    {
     "name": "stdout",
     "output_type": "stream",
     "text": [
      "Bᶜ = {1, 2, 4, 5, 6, 7, 9, 10}\n"
     ]
    }
   ],
   "source": [
    "\n",
    "Ω = set(range(1, 13))\n",
    "B = {3, 8, 11, 12}\n",
    "\n",
    "ans4 = Ω - B\n",
    "print(\"Bᶜ =\", ans4)\n"
   ]
  },
  {
   "cell_type": "markdown",
   "id": "c7a1e91e",
   "metadata": {},
   "source": []
  },
  {
   "cell_type": "code",
   "execution_count": 6,
   "id": "2adb8e0a",
   "metadata": {},
   "outputs": [
    {
     "name": "stdout",
     "output_type": "stream",
     "text": [
      "(A ∪ B)ᶜ = {1, 5, 9, 7}\n"
     ]
    }
   ],
   "source": [
    "Ω = set(range(1, 13))\n",
    "A = {2, 4, 6, 8, 10}\n",
    "B = {3, 8, 11, 12}\n",
    "\n",
    "ans5 = Ω  - (A | B)  # or Omega.difference(A.union(B))\n",
    "print(\"(A ∪ B)ᶜ =\", ans5)\n"
   ]
  },
  {
   "cell_type": "code",
   "execution_count": 7,
   "id": "29961f1c",
   "metadata": {},
   "outputs": [
    {
     "name": "stdout",
     "output_type": "stream",
     "text": [
      "B ∩ C' = {12}\n"
     ]
    }
   ],
   "source": [
    "Ω = set(range(1, 13))\n",
    "B = {3, 8, 11, 12}\n",
    "C = {2, 3, 6, 8, 9, 11}\n",
    "\n",
    "C_complement = Ω  - C\n",
    "ans6 = B & C_complement  # or B.intersection(C_complement)\n",
    "print(\"B ∩ C' =\", ans6)\n"
   ]
  },
  {
   "cell_type": "code",
   "execution_count": 10,
   "id": "2d5b9095",
   "metadata": {},
   "outputs": [
    {
     "name": "stdout",
     "output_type": "stream",
     "text": [
      "A \\ B = {2, 10, 4, 6}\n"
     ]
    }
   ],
   "source": [
    "#A△B.  # Symmetric difference of A and B\n",
    "A = {2, 4, 6, 8, 10}\n",
    "B = {3, 8, 11, 12}\n",
    "\n",
    "ans7 = A - B  # or A.difference(B)\n",
    "print(\"A \\\\ B =\", ans7)\n"
   ]
  },
  {
   "cell_type": "code",
   "execution_count": 11,
   "id": "c16dd496",
   "metadata": {},
   "outputs": [
    {
     "name": "stdout",
     "output_type": "stream",
     "text": [
      "C \\ (B \\ A) = {8, 9, 2, 6}\n"
     ]
    }
   ],
   "source": [
    "A = {2, 4, 6, 8, 10}\n",
    "B = {3, 8, 11, 12}\n",
    "C = {2, 3, 6, 8, 9, 11}\n",
    "\n",
    "ans8 = C - (B - A)\n",
    "print(\"C \\\\ (B \\\\ A) =\", ans8)\n"
   ]
  },
  {
   "cell_type": "code",
   "execution_count": 12,
   "id": "4fe4c4aa",
   "metadata": {},
   "outputs": [
    {
     "name": "stdout",
     "output_type": "stream",
     "text": [
      "ans9 = {2, 6, 8, 9}\n"
     ]
    }
   ],
   "source": [
    "A = {2, 4, 6, 8, 10}\n",
    "B = {3, 8, 11, 12}\n",
    "C = {2, 3, 6, 8, 9, 11}\n",
    "\n",
    "ans9 = (C & A) | (C - B)\n",
    "print(\"ans9 =\", ans9)\n"
   ]
  },
  {
   "cell_type": "code",
   "execution_count": 14,
   "id": "b296458e",
   "metadata": {},
   "outputs": [
    {
     "name": "stdout",
     "output_type": "stream",
     "text": [
      "Type A: <class 'set'>, A: {2, 4, 6, 8, 10}\n"
     ]
    }
   ],
   "source": [
    "# Create set A\n",
    "A = {2, 4, 6, 8, 10}\n",
    "print(f'Type A: {type(A)}, A: {A}')  # Type A: <class 'set'>, A: {2, 4, 6, 8, 10}"
   ]
  },
  {
   "cell_type": "code",
   "execution_count": 15,
   "id": "c1fa3f5b",
   "metadata": {},
   "outputs": [
    {
     "name": "stdout",
     "output_type": "stream",
     "text": [
      "Type B: <class 'set'>, B: {8, 3, 11, 12}\n"
     ]
    }
   ],
   "source": [
    "# Create set B\n",
    "B = {3, 8, 11, 12}\n",
    "print(f'Type B: {type(B)}, B: {B}')  # Type B: <class 'set'>, B: {3, 8, 11, 12}"
   ]
  },
  {
   "cell_type": "code",
   "execution_count": 16,
   "id": "dc97af49",
   "metadata": {},
   "outputs": [
    {
     "name": "stdout",
     "output_type": "stream",
     "text": [
      "Type C: <class 'set'>, C: {2, 3, 6, 8, 9, 11}\n"
     ]
    }
   ],
   "source": [
    "# Create set C\n",
    "C = {2, 3, 6, 8, 9, 11}\n",
    "print(f'Type C: {type(C)}, C: {C}')  # Type C: <class 'set'>, C: {2, 3, 6, 8, 9, 11}"
   ]
  },
  {
   "cell_type": "code",
   "execution_count": 17,
   "id": "be322abe",
   "metadata": {},
   "outputs": [],
   "source": [
    "# Define all sets\n",
    "A = {2, 4, 6, 8, 10}\n",
    "B = {3, 8, 11, 12}\n",
    "C = {2, 3, 6, 8, 9, 11}\n",
    "U = set(range(1, 13))\n",
    "\n",
    "# Provided answers\n",
    "ans1 = {8}\n",
    "ans2 = {2, 3, 4, 6, 8, 9, 10, 11}\n",
    "ans3 = {1, 3, 5, 7, 9, 11, 12}\n",
    "ans4 = {1, 2, 4, 5, 6, 7, 9, 10}\n",
    "ans5 = {1, 5, 7, 9}\n",
    "ans6 = {12}\n",
    "ans7 = {2, 4, 6, 10}\n",
    "ans8 = {2, 6, 8, 9}\n",
    "ans9 = {2, 6, 8, 9}"
   ]
  },
  {
   "cell_type": "markdown",
   "id": "e8690530",
   "metadata": {},
   "source": [
    "\n",
    "# Verifications"
   ]
  },
  {
   "cell_type": "code",
   "execution_count": 36,
   "id": "0810c3a8",
   "metadata": {},
   "outputs": [
    {
     "name": "stdout",
     "output_type": "stream",
     "text": [
      "1. A ∩ B correct? True\n"
     ]
    }
   ],
   "source": [
    "A_inters_B = A & B\n",
    "print(\"1. A ∩ B correct?\", A_inters_B == ans1)"
   ]
  },
  {
   "cell_type": "code",
   "execution_count": 37,
   "id": "e4757ded",
   "metadata": {},
   "outputs": [
    {
     "name": "stdout",
     "output_type": "stream",
     "text": [
      "2. A ∪ C correct? True\n"
     ]
    }
   ],
   "source": [
    "A_union_C = A | C\n",
    "print(\"2. A ∪ C correct?\", A_union_C == ans2)"
   ]
  },
  {
   "cell_type": "code",
   "execution_count": 38,
   "id": "d80e6868",
   "metadata": {},
   "outputs": [
    {
     "name": "stdout",
     "output_type": "stream",
     "text": [
      "3. Aᶜ correct? True\n"
     ]
    }
   ],
   "source": [
    "A_comp = U - A\n",
    "print(\"3. Aᶜ correct?\", A_comp == ans3)"
   ]
  },
  {
   "cell_type": "code",
   "execution_count": 39,
   "id": "71a31a0e",
   "metadata": {},
   "outputs": [
    {
     "name": "stdout",
     "output_type": "stream",
     "text": [
      "4. Bᶜ correct? True\n"
     ]
    }
   ],
   "source": [
    "\n",
    "B_comp = U - B\n",
    "print(\"4. Bᶜ correct?\", B_comp == ans4)"
   ]
  },
  {
   "cell_type": "code",
   "execution_count": 40,
   "id": "5ca622e0",
   "metadata": {},
   "outputs": [
    {
     "name": "stdout",
     "output_type": "stream",
     "text": [
      "5. (A ∪ B)ᶜ correct? True\n"
     ]
    }
   ],
   "source": [
    "A_union_B_comp = U - (A | B)\n",
    "print(\"5. (A ∪ B)ᶜ correct?\", A_union_B_comp == ans5)"
   ]
  },
  {
   "cell_type": "code",
   "execution_count": 41,
   "id": "a804b50e",
   "metadata": {},
   "outputs": [
    {
     "name": "stdout",
     "output_type": "stream",
     "text": [
      "6. B ∩ Cᶜ correct? True\n"
     ]
    }
   ],
   "source": [
    "B_inters_C_comp = B & (U - C)\n",
    "print(\"6. B ∩ Cᶜ correct?\", B_inters_C_comp == ans6)"
   ]
  },
  {
   "cell_type": "code",
   "execution_count": 42,
   "id": "e33a8340",
   "metadata": {},
   "outputs": [
    {
     "name": "stdout",
     "output_type": "stream",
     "text": [
      "7. A \\ B correct? True\n"
     ]
    }
   ],
   "source": [
    "compl_of_B = A - B\n",
    "print(\"7. A \\\\ B correct?\", compl_of_B == ans7)"
   ]
  },
  {
   "cell_type": "code",
   "execution_count": 43,
   "id": "8c4ed67e",
   "metadata": {},
   "outputs": [
    {
     "name": "stdout",
     "output_type": "stream",
     "text": [
      "8. C \\ (B \\ A) correct? True\n"
     ]
    }
   ],
   "source": [
    "C_compl_B_compl_A = C - (B - A)\n",
    "print(\"8. C \\\\ (B \\\\ A) correct?\", C_compl_B_compl_A == ans8)"
   ]
  },
  {
   "cell_type": "code",
   "execution_count": 44,
   "id": "4bad77f9",
   "metadata": {},
   "outputs": [
    {
     "name": "stdout",
     "output_type": "stream",
     "text": [
      "9. (C ∩ A) ∪ (C \\ B) correct? True\n"
     ]
    }
   ],
   "source": [
    "C_inters_A_union_C_min_B = (C & A) | (C - B)\n",
    "print(\"9. (C ∩ A) ∪ (C \\\\ B) correct?\", C_inters_A_union_C_min_B == ans9)"
   ]
  },
  {
   "cell_type": "markdown",
   "id": "910a90a6",
   "metadata": {},
   "source": [
    " #Writing Down the Elements in a Set"
   ]
  },
  {
   "cell_type": "code",
   "execution_count": null,
   "id": "163b3acf",
   "metadata": {},
   "outputs": [],
   "source": [
    "from itertools import product\n",
    "# Define the universal set U (all possible outcomes)\n",
    "directions = ['L', 'S', 'R']\n",
    "U = set(product(directions, repeat=3))  # 3 positions: car1, car2, car3\n",
    "\n",
    "\n"
   ]
  },
  {
   "cell_type": "code",
   "execution_count": 47,
   "id": "36d49783",
   "metadata": {},
   "outputs": [],
   "source": [
    "# Set A: All 3 cars go in the same direction\n",
    "A = {outcome for outcome in U if outcome[0] == outcome[1] == outcome[2]}\n"
   ]
  },
  {
   "cell_type": "code",
   "execution_count": 48,
   "id": "9e95859f",
   "metadata": {},
   "outputs": [],
   "source": [
    "# Set B: All cars go in different directions\n",
    "B = {outcome for outcome in U if len(set(outcome)) == 3}"
   ]
  },
  {
   "cell_type": "code",
   "execution_count": 49,
   "id": "a4d87b87",
   "metadata": {},
   "outputs": [],
   "source": [
    "# Set C: Exactly two cars turn right (R)\n",
    "C = {\n",
    "    outcome for outcome in U \n",
    "    if outcome.count('R') == 2\n",
    "}\n",
    "\n",
    "# Set D: Exactly two cars go in the same direction\n",
    "# This means not all same (A) and not all different (B), so exactly 2 same, 1 different\n",
    "D = {\n",
    "    outcome for outcome in U \n",
    "    if len(set(outcome)) == 2\n",
    "}\n"
   ]
  },
  {
   "cell_type": "code",
   "execution_count": 50,
   "id": "24e8ce57",
   "metadata": {},
   "outputs": [],
   "source": [
    "# Set D′: Complement of D (not in D)\n",
    "D_comp = U - D\n"
   ]
  },
  {
   "cell_type": "code",
   "execution_count": 51,
   "id": "160703d0",
   "metadata": {},
   "outputs": [],
   "source": [
    "\n",
    "# Set C ∩ D\n",
    "C_inter_D = C & D\n"
   ]
  },
  {
   "cell_type": "code",
   "execution_count": 52,
   "id": "8f00e9e0",
   "metadata": {},
   "outputs": [],
   "source": [
    "# Set C ∪ D\n",
    "C_union_D = C | D"
   ]
  },
  {
   "cell_type": "code",
   "execution_count": 53,
   "id": "e83fd987",
   "metadata": {},
   "outputs": [
    {
     "name": "stdout",
     "output_type": "stream",
     "text": [
      "Universal set U (total outcomes): 27\n",
      "\n"
     ]
    }
   ],
   "source": [
    "\n",
    "# Pretty-print results\n",
    "print(f\"Universal set U (total outcomes): {len(U)}\\n\")"
   ]
  },
  {
   "cell_type": "code",
   "execution_count": 54,
   "id": "a2785213",
   "metadata": {},
   "outputs": [
    {
     "name": "stdout",
     "output_type": "stream",
     "text": [
      "A (all same): [('L', 'L', 'L'), ('R', 'R', 'R'), ('S', 'S', 'S')] — 3 outcomes\n",
      "\n",
      "B (all different): [('L', 'R', 'S'), ('L', 'S', 'R'), ('R', 'L', 'S'), ('R', 'S', 'L'), ('S', 'L', 'R'), ('S', 'R', 'L')] — 6 outcomes\n",
      "\n",
      "C (exactly 2 R): [('L', 'R', 'R'), ('R', 'L', 'R'), ('R', 'R', 'L'), ('R', 'R', 'S'), ('R', 'S', 'R'), ('S', 'R', 'R')] — 6 outcomes\n",
      "\n",
      "D (exactly 2 same directions): [('L', 'L', 'R'), ('L', 'L', 'S'), ('L', 'R', 'L'), ('L', 'R', 'R'), ('L', 'S', 'L'), ('L', 'S', 'S'), ('R', 'L', 'L'), ('R', 'L', 'R'), ('R', 'R', 'L'), ('R', 'R', 'S'), ('R', 'S', 'R'), ('R', 'S', 'S'), ('S', 'L', 'L'), ('S', 'L', 'S'), ('S', 'R', 'R'), ('S', 'R', 'S'), ('S', 'S', 'L'), ('S', 'S', 'R')] — 18 outcomes\n",
      "\n"
     ]
    }
   ],
   "source": [
    "print(f\"A (all same): {sorted(A)} — {len(A)} outcomes\\n\")\n",
    "print(f\"B (all different): {sorted(B)} — {len(B)} outcomes\\n\")\n",
    "print(f\"C (exactly 2 R): {sorted(C)} — {len(C)} outcomes\\n\")\n",
    "print(f\"D (exactly 2 same directions): {sorted(D)} — {len(D)} outcomes\\n\")"
   ]
  },
  {
   "cell_type": "code",
   "execution_count": 55,
   "id": "022a9aa0",
   "metadata": {},
   "outputs": [
    {
     "name": "stdout",
     "output_type": "stream",
     "text": [
      "D' (complement of D): [('L', 'L', 'L'), ('L', 'R', 'S'), ('L', 'S', 'R'), ('R', 'L', 'S'), ('R', 'R', 'R'), ('R', 'S', 'L'), ('S', 'L', 'R'), ('S', 'R', 'L'), ('S', 'S', 'S')] — 9 outcomes\n",
      "\n",
      "C ∩ D: [('L', 'R', 'R'), ('R', 'L', 'R'), ('R', 'R', 'L'), ('R', 'R', 'S'), ('R', 'S', 'R'), ('S', 'R', 'R')] — 6 outcomes\n",
      "\n",
      "C ∪ D: [('L', 'L', 'R'), ('L', 'L', 'S'), ('L', 'R', 'L'), ('L', 'R', 'R'), ('L', 'S', 'L'), ('L', 'S', 'S'), ('R', 'L', 'L'), ('R', 'L', 'R'), ('R', 'R', 'L'), ('R', 'R', 'S'), ('R', 'S', 'R'), ('R', 'S', 'S'), ('S', 'L', 'L'), ('S', 'L', 'S'), ('S', 'R', 'R'), ('S', 'R', 'S'), ('S', 'S', 'L'), ('S', 'S', 'R')] — 18 outcomes\n",
      "\n"
     ]
    }
   ],
   "source": [
    "print(f\"D' (complement of D): {sorted(D_comp)} — {len(D_comp)} outcomes\\n\")\n",
    "print(f\"C ∩ D: {sorted(C_inter_D)} — {len(C_inter_D)} outcomes\\n\")\n",
    "print(f\"C ∪ D: {sorted(C_union_D)} — {len(C_union_D)} outcomes\\n\")"
   ]
  }
 ],
 "metadata": {
  "kernelspec": {
   "display_name": "base",
   "language": "python",
   "name": "python3"
  },
  "language_info": {
   "codemirror_mode": {
    "name": "ipython",
    "version": 3
   },
   "file_extension": ".py",
   "mimetype": "text/x-python",
   "name": "python",
   "nbconvert_exporter": "python",
   "pygments_lexer": "ipython3",
   "version": "3.12.7"
  }
 },
 "nbformat": 4,
 "nbformat_minor": 5
}
