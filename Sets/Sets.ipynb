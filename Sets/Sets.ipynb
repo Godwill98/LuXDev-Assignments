{
 "cells": [
  {
   "cell_type": "markdown",
   "id": "1017ef79",
   "metadata": {},
   "source": [
    "# STATISTICS\n",
    "- Assignment Sets"
   ]
  },
  {
   "cell_type": "code",
   "execution_count": null,
   "id": "e34c0d36",
   "metadata": {},
   "outputs": [
    {
     "name": "stdout",
     "output_type": "stream",
     "text": [
      "A ∩ B = {8}\n"
     ]
    }
   ],
   "source": [
    "# Define the sets\n",
    "Ω = {1, 2, 3, 4, 5, 6, 7, 8, 9, 10,11, 12}\n",
    "A = {2, 4, 6, 8, 10}\n",
    "B = {3, 8, 11, 12}\n",
    "\n",
    "# Compute the intersection of A and B\n",
    "ans1 = A & B  # or A.intersection(B)\n",
    "\n",
    "# Display the result\n",
    "print(\"A ∩ B =\", ans1)\n"
   ]
  },
  {
   "cell_type": "code",
   "execution_count": 2,
   "id": "ba5c967f",
   "metadata": {},
   "outputs": [
    {
     "name": "stdout",
     "output_type": "stream",
     "text": [
      "A ∪ C = {2, 3, 4, 6, 8, 9, 10, 11}\n"
     ]
    }
   ],
   "source": [
    "A = {2, 4, 6, 8, 10}\n",
    "C = {2, 3, 6, 8, 9, 11}\n",
    "\n",
    "ans2 = A | C  # or A.union(C)\n",
    "print(\"A ∪ C =\", ans2)\n"
   ]
  },
  {
   "cell_type": "code",
   "execution_count": 3,
   "id": "86f3afc5",
   "metadata": {},
   "outputs": [
    {
     "name": "stdout",
     "output_type": "stream",
     "text": [
      "Aᶜ = {1, 3, 5, 7, 9, 11, 12}\n"
     ]
    }
   ],
   "source": [
    "Ω = set(range(1, 13))  # Universal set from 1 to 12\n",
    "A = {2, 4, 6, 8, 10}\n",
    "\n",
    "ans3 = Ω - A  # Complement of A\n",
    "print(\"Aᶜ =\", ans3)\n"
   ]
  },
  {
   "cell_type": "code",
   "execution_count": null,
   "id": "4f7db2df",
   "metadata": {},
   "outputs": [
    {
     "name": "stdout",
     "output_type": "stream",
     "text": [
      "Bᶜ = {1, 2, 4, 5, 6, 7, 9, 10}\n"
     ]
    }
   ],
   "source": [
    "\n",
    "Ω = set(range(1, 13))\n",
    "B = {3, 8, 11, 12}\n",
    "\n",
    "ans4 = Ω - B\n",
    "print(\"Bᶜ =\", ans4)\n"
   ]
  },
  {
   "cell_type": "markdown",
   "id": "c7a1e91e",
   "metadata": {},
   "source": []
  },
  {
   "cell_type": "code",
   "execution_count": 6,
   "id": "2adb8e0a",
   "metadata": {},
   "outputs": [
    {
     "name": "stdout",
     "output_type": "stream",
     "text": [
      "(A ∪ B)ᶜ = {1, 5, 9, 7}\n"
     ]
    }
   ],
   "source": [
    "Ω = set(range(1, 13))\n",
    "A = {2, 4, 6, 8, 10}\n",
    "B = {3, 8, 11, 12}\n",
    "\n",
    "ans5 = Ω  - (A | B)  # or Omega.difference(A.union(B))\n",
    "print(\"(A ∪ B)ᶜ =\", ans5)\n"
   ]
  },
  {
   "cell_type": "code",
   "execution_count": 7,
   "id": "29961f1c",
   "metadata": {},
   "outputs": [
    {
     "name": "stdout",
     "output_type": "stream",
     "text": [
      "B ∩ C' = {12}\n"
     ]
    }
   ],
   "source": [
    "Ω = set(range(1, 13))\n",
    "B = {3, 8, 11, 12}\n",
    "C = {2, 3, 6, 8, 9, 11}\n",
    "\n",
    "C_complement = Ω  - C\n",
    "ans6 = B & C_complement  # or B.intersection(C_complement)\n",
    "print(\"B ∩ C' =\", ans6)\n"
   ]
  }
 ],
 "metadata": {
  "kernelspec": {
   "display_name": "base",
   "language": "python",
   "name": "python3"
  },
  "language_info": {
   "codemirror_mode": {
    "name": "ipython",
    "version": 3
   },
   "file_extension": ".py",
   "mimetype": "text/x-python",
   "name": "python",
   "nbconvert_exporter": "python",
   "pygments_lexer": "ipython3",
   "version": "3.12.7"
  }
 },
 "nbformat": 4,
 "nbformat_minor": 5
}
